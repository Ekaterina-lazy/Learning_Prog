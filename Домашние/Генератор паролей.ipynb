{
  "nbformat": 4,
  "nbformat_minor": 0,
  "metadata": {
    "colab": {
      "provenance": []
    },
    "kernelspec": {
      "name": "python3",
      "display_name": "Python 3"
    },
    "language_info": {
      "name": "python"
    }
  },
  "cells": [
    {
      "cell_type": "code",
      "source": [
        "print('\\nДобро пожаловать! ' 'Создадим пароль?')\n",
        "import string\n",
        "import random\n",
        "\n",
        "def generate_password(length):\n",
        "  characters = string.ascii_letters + string.digits + string.punctuation\n",
        "  password = ''.join(random.choice(characters) for _ in range(length))\n",
        "  return password\n",
        "\n",
        "password_length = int(input('Сколько символов в пароле?'))\n",
        "password = generate_password(password_length)\n",
        "print('Новый пароль:', password)"
      ],
      "metadata": {
        "colab": {
          "base_uri": "https://localhost:8080/"
        },
        "id": "Y2mRqjQfnTwR",
        "outputId": "68dbfdcd-041b-4518-a226-d5707b130570"
      },
      "execution_count": 3,
      "outputs": [
        {
          "output_type": "stream",
          "name": "stdout",
          "text": [
            "\n",
            "Добро пожаловать! Создадим пароль?\n",
            "Сколько символов в пароле?4\n",
            "Новый пароль: lvh%\n"
          ]
        }
      ]
    }
  ]
}