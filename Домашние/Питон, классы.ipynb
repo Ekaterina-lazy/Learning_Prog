{
  "nbformat": 4,
  "nbformat_minor": 0,
  "metadata": {
    "colab": {
      "provenance": []
    },
    "kernelspec": {
      "name": "python3",
      "display_name": "Python 3"
    },
    "language_info": {
      "name": "python"
    }
  },
  "cells": [
    {
      "cell_type": "code",
      "source": [
        "from datetime import datetime,date,time"
      ],
      "metadata": {
        "id": "PYZkQZQwDydc"
      },
      "execution_count": 113,
      "outputs": []
    },
    {
      "cell_type": "code",
      "source": [
        "class Employee:\n",
        "  def __init__ (self, id, name, position, base_salary):\n",
        "    if(type(base_salary)==str):\n",
        "      base_salary=int(balance)\n",
        "    self.id=id\n",
        "    self.name=name\n",
        "    self.position=position\n",
        "    self.base_salary=base_salary\n",
        "    self.history=[]\n",
        "\n",
        "#Чтобы посчитать годовую зарплату\n",
        "  def calculate_salary(self,base_salary):\n",
        "    self.base_salary=base_salary\n",
        "    self.calculate_salary=self.base_salary*12\n",
        "    return result_salary\n",
        "\n",
        "#Чтобы внести деньги (и проверить, что пользователь ввёл именно число)\n",
        "  def deposit(self,money):\n",
        "    if (type(money)==int) or money.isdigit(): #Если введенные данные являются числом, код работает, если нет - нет\n",
        "      money=int(money) #Преобразовываем введенные данные в нужный класс\n",
        "      if(money>0):\n",
        "        self.base_salary=self.base_salary+money\n",
        "        print('Пополнение прошло успешно')\n",
        "        self.record('Пополнение',money,datetime.now()) #Аргумент для того, чтобы показать актуальную на данный момент дату и время снятия денег\n",
        "      else:\n",
        "        print('Укажите положительное число')\n",
        "    else:\n",
        "      print('Пожалуйста, введите число')\n",
        "\n",
        "#Чтобы снять деньги\n",
        "  def withdraw(self,money):\n",
        "    if (type(money)==int) or money.isdigit(): #Если введенные данные являются числом, код работает, если нет - нет\n",
        "      money=int(money) #Преобразовываем введенные данные в нужный класс\n",
        "      if(money>0 and self.base_salary>=money):\n",
        "        self.base_salary=self.base_salary-money\n",
        "        print('Снятие прошло успешно')\n",
        "        self.record('Снятие',money,datetime.now()) #Аргумент для того, чтобы показать актуальную на данный момент дату и время снятия денег\n",
        "      else:\n",
        "        print('Укажите корректную сумму, которую хотели бы снять')\n",
        "    else:\n",
        "      print('Пожалуйста, введите число')\n",
        "\n",
        "#Чтобы создать запись истории\n",
        "  def record(self,method,money,date):\n",
        "    operation={\n",
        "      \"Операция\":method,\n",
        "      \"Сумма\":money,\n",
        "      \"Дата и время\":date\n",
        "    }\n",
        "    self.history.append(operation)\n",
        "#Чтобы проверить баланс\n",
        "  def getBalance(self):\n",
        "    return self.base_salary\n",
        "\n",
        "#Чтобы посмотреть историю\n",
        "  def getHistory(self):\n",
        "    print(self.history)"
      ],
      "metadata": {
        "id": "ZwnVvcZQvrVr"
      },
      "execution_count": 174,
      "outputs": []
    },
    {
      "cell_type": "code",
      "source": [
        "class Manager(Employee):\n",
        "  def __init__ (self, id, name, position, base_salary, bonus):\n",
        "    super().__init__(self,id, name, position, base_salary)\n",
        "    self.bonus=bonus\n",
        "    self.base_salary=base_salary\n",
        "\n",
        "  def Calculate_result_salary(self,base_salary):\n",
        "    self.base_salary=base_salary+bonus\n",
        "    return result_salary\n",
        "    print('Ваша зарплата менеджера с учётом бонуса:',result_salary)"
      ],
      "metadata": {
        "id": "CUHqmDpGGPIa"
      },
      "execution_count": 212,
      "outputs": []
    },
    {
      "cell_type": "code",
      "source": [
        "class Developer(Employee):\n",
        "  def __init__(self,id,position,hourly_rate,hours_worked):\n",
        "    super().__init__(self,id,position)\n",
        "    self.hourly_rate=hourly_rate\n",
        "    self.hours_worked=hours_worked\n",
        "  def calculate_final_salary(self):\n",
        "    result_salary=hourly_rate*hours_worked\n",
        "    print(\"Ваша почасовая зарплата разработчика в соответствии с отработанными часами:\",final_salary)"
      ],
      "metadata": {
        "id": "6dztuWpZZeIT"
      },
      "execution_count": null,
      "outputs": []
    },
    {
      "cell_type": "code",
      "source": [
        "class Student(Employee):\n",
        "  def __init__(self,id,position,base_salary):\n",
        "    super().__init__(self,id,position,base_salary)\n",
        "  def calculate_final_salary(self):\n",
        "    result_salary=base_salary/4\n",
        "    print(\"Ваша зарплата студента:\",result_salary)"
      ],
      "metadata": {
        "id": "F-lKfnQ1aHKT"
      },
      "execution_count": null,
      "outputs": []
    },
    {
      "cell_type": "code",
      "source": [
        "newAccount=Employee(\"1\",\"Ivan_Ivanov\",\"supervisor\",80000)"
      ],
      "metadata": {
        "id": "TNw-gHpC7Y5C"
      },
      "execution_count": 135,
      "outputs": []
    },
    {
      "cell_type": "code",
      "source": [
        "newAccount.deposit(\"500\")"
      ],
      "metadata": {
        "colab": {
          "base_uri": "https://localhost:8080/"
        },
        "id": "zLkGD48P818K",
        "outputId": "8b9550ed-1361-453d-fee7-1b4f6266303b"
      },
      "execution_count": 77,
      "outputs": [
        {
          "output_type": "stream",
          "name": "stdout",
          "text": [
            "Пополнение прошло успешно\n"
          ]
        }
      ]
    },
    {
      "cell_type": "code",
      "source": [
        "newAccount.withdraw(40000)"
      ],
      "metadata": {
        "colab": {
          "base_uri": "https://localhost:8080/"
        },
        "id": "sPQAFZlm_Ml0",
        "outputId": "6cc55ec4-22b5-491e-e8fb-7ebf9483c823"
      },
      "execution_count": 78,
      "outputs": [
        {
          "output_type": "stream",
          "name": "stdout",
          "text": [
            "Снятие прошло успешно\n"
          ]
        }
      ]
    },
    {
      "cell_type": "code",
      "source": [
        "newAccount.getBalance()"
      ],
      "metadata": {
        "colab": {
          "base_uri": "https://localhost:8080/"
        },
        "id": "HOH7uq4L--eY",
        "outputId": "abc53c61-e238-47a7-a03f-d402e3e0e0df"
      },
      "execution_count": 79,
      "outputs": [
        {
          "output_type": "execute_result",
          "data": {
            "text/plain": [
              "40500"
            ]
          },
          "metadata": {},
          "execution_count": 79
        }
      ]
    },
    {
      "cell_type": "code",
      "source": [
        "newAccount.getHistory()"
      ],
      "metadata": {
        "colab": {
          "base_uri": "https://localhost:8080/"
        },
        "id": "NSdMouXbFOhs",
        "outputId": "09922d50-0d9c-41a8-b76a-efee7213862f"
      },
      "execution_count": 80,
      "outputs": [
        {
          "output_type": "stream",
          "name": "stdout",
          "text": [
            "[{'Операция': 'Пополнение', 'Сумма': 500, 'Дата и время': datetime.datetime(2025, 10, 12, 11, 10, 28, 826723)}, {'Операция': 'Снятие', 'Сумма': 40000, 'Дата и время': datetime.datetime(2025, 10, 12, 11, 10, 30, 640191)}]\n"
          ]
        }
      ]
    },
    {
      "cell_type": "code",
      "source": [
        "newAccount.calculate_salary()"
      ],
      "metadata": {
        "colab": {
          "base_uri": "https://localhost:8080/",
          "height": 141
        },
        "id": "HJL-z0BnHRo9",
        "outputId": "e9275dce-60b8-4b44-d94b-fa4b7a0360dc"
      },
      "execution_count": 176,
      "outputs": [
        {
          "output_type": "error",
          "ename": "TypeError",
          "evalue": "Employee.calculate_salary() missing 1 required positional argument: 'base_salary'",
          "traceback": [
            "\u001b[0;31m---------------------------------------------------------------------------\u001b[0m",
            "\u001b[0;31mTypeError\u001b[0m                                 Traceback (most recent call last)",
            "\u001b[0;32m/tmp/ipython-input-3938675472.py\u001b[0m in \u001b[0;36m<cell line: 0>\u001b[0;34m()\u001b[0m\n\u001b[0;32m----> 1\u001b[0;31m \u001b[0mnewAccount\u001b[0m\u001b[0;34m.\u001b[0m\u001b[0mcalculate_salary\u001b[0m\u001b[0;34m(\u001b[0m\u001b[0;34m)\u001b[0m\u001b[0;34m\u001b[0m\u001b[0;34m\u001b[0m\u001b[0m\n\u001b[0m",
            "\u001b[0;31mTypeError\u001b[0m: Employee.calculate_salary() missing 1 required positional argument: 'base_salary'"
          ]
        }
      ]
    },
    {
      "cell_type": "code",
      "source": [
        "AnotherAccount=Manager(\"111\", \"Petr Petrov\", \"ingeenering\", base_salary=60000,bonus=15000)"
      ],
      "metadata": {
        "colab": {
          "base_uri": "https://localhost:8080/",
          "height": 263
        },
        "id": "sB7AtZ06LM6h",
        "outputId": "e5a67ea4-a04a-4bde-f443-59e516ca6ce0"
      },
      "execution_count": 213,
      "outputs": [
        {
          "output_type": "error",
          "ename": "TypeError",
          "evalue": "Employee.__init__() takes 5 positional arguments but 6 were given",
          "traceback": [
            "\u001b[0;31m---------------------------------------------------------------------------\u001b[0m",
            "\u001b[0;31mTypeError\u001b[0m                                 Traceback (most recent call last)",
            "\u001b[0;32m/tmp/ipython-input-3246320422.py\u001b[0m in \u001b[0;36m<cell line: 0>\u001b[0;34m()\u001b[0m\n\u001b[0;32m----> 1\u001b[0;31m \u001b[0mAnotherAccount\u001b[0m\u001b[0;34m=\u001b[0m\u001b[0mManager\u001b[0m\u001b[0;34m(\u001b[0m\u001b[0;34m\"111\"\u001b[0m\u001b[0;34m,\u001b[0m \u001b[0;34m\"Petr Petrov\"\u001b[0m\u001b[0;34m,\u001b[0m \u001b[0;34m\"ingeenering\"\u001b[0m\u001b[0;34m,\u001b[0m \u001b[0mbase_salary\u001b[0m\u001b[0;34m=\u001b[0m\u001b[0;36m60000\u001b[0m\u001b[0;34m,\u001b[0m\u001b[0mbonus\u001b[0m\u001b[0;34m=\u001b[0m\u001b[0;36m15000\u001b[0m\u001b[0;34m)\u001b[0m\u001b[0;34m\u001b[0m\u001b[0;34m\u001b[0m\u001b[0m\n\u001b[0m",
            "\u001b[0;32m/tmp/ipython-input-1762559751.py\u001b[0m in \u001b[0;36m__init__\u001b[0;34m(self, id, name, position, base_salary, bonus)\u001b[0m\n\u001b[1;32m      1\u001b[0m \u001b[0;32mclass\u001b[0m \u001b[0mManager\u001b[0m\u001b[0;34m(\u001b[0m\u001b[0mEmployee\u001b[0m\u001b[0;34m)\u001b[0m\u001b[0;34m:\u001b[0m\u001b[0;34m\u001b[0m\u001b[0;34m\u001b[0m\u001b[0m\n\u001b[1;32m      2\u001b[0m   \u001b[0;32mdef\u001b[0m \u001b[0m__init__\u001b[0m \u001b[0;34m(\u001b[0m\u001b[0mself\u001b[0m\u001b[0;34m,\u001b[0m \u001b[0mid\u001b[0m\u001b[0;34m,\u001b[0m \u001b[0mname\u001b[0m\u001b[0;34m,\u001b[0m \u001b[0mposition\u001b[0m\u001b[0;34m,\u001b[0m \u001b[0mbase_salary\u001b[0m\u001b[0;34m,\u001b[0m \u001b[0mbonus\u001b[0m\u001b[0;34m)\u001b[0m\u001b[0;34m:\u001b[0m\u001b[0;34m\u001b[0m\u001b[0;34m\u001b[0m\u001b[0m\n\u001b[0;32m----> 3\u001b[0;31m     \u001b[0msuper\u001b[0m\u001b[0;34m(\u001b[0m\u001b[0;34m)\u001b[0m\u001b[0;34m.\u001b[0m\u001b[0m__init__\u001b[0m\u001b[0;34m(\u001b[0m\u001b[0mself\u001b[0m\u001b[0;34m,\u001b[0m\u001b[0mid\u001b[0m\u001b[0;34m,\u001b[0m \u001b[0mname\u001b[0m\u001b[0;34m,\u001b[0m \u001b[0mposition\u001b[0m\u001b[0;34m,\u001b[0m \u001b[0mbase_salary\u001b[0m\u001b[0;34m)\u001b[0m\u001b[0;34m\u001b[0m\u001b[0;34m\u001b[0m\u001b[0m\n\u001b[0m\u001b[1;32m      4\u001b[0m     \u001b[0mself\u001b[0m\u001b[0;34m.\u001b[0m\u001b[0mbonus\u001b[0m\u001b[0;34m=\u001b[0m\u001b[0mbonus\u001b[0m\u001b[0;34m\u001b[0m\u001b[0;34m\u001b[0m\u001b[0m\n\u001b[1;32m      5\u001b[0m     \u001b[0mself\u001b[0m\u001b[0;34m.\u001b[0m\u001b[0mbase_salary\u001b[0m\u001b[0;34m=\u001b[0m\u001b[0mbase_salary\u001b[0m\u001b[0;34m\u001b[0m\u001b[0;34m\u001b[0m\u001b[0m\n",
            "\u001b[0;31mTypeError\u001b[0m: Employee.__init__() takes 5 positional arguments but 6 were given"
          ]
        }
      ]
    },
    {
      "cell_type": "code",
      "source": [
        "AnotherAccount.Calculate_result_salary()"
      ],
      "metadata": {
        "colab": {
          "base_uri": "https://localhost:8080/",
          "height": 141
        },
        "id": "WychkgdjNsA_",
        "outputId": "c4e3b998-c033-4816-9952-ba897bfa0ed7"
      },
      "execution_count": 211,
      "outputs": [
        {
          "output_type": "error",
          "ename": "TypeError",
          "evalue": "Manager.Calculate_result_salary() missing 1 required positional argument: 'base_salary'",
          "traceback": [
            "\u001b[0;31m---------------------------------------------------------------------------\u001b[0m",
            "\u001b[0;31mTypeError\u001b[0m                                 Traceback (most recent call last)",
            "\u001b[0;32m/tmp/ipython-input-4251134191.py\u001b[0m in \u001b[0;36m<cell line: 0>\u001b[0;34m()\u001b[0m\n\u001b[0;32m----> 1\u001b[0;31m \u001b[0mAnotherAccount\u001b[0m\u001b[0;34m.\u001b[0m\u001b[0mCalculate_result_salary\u001b[0m\u001b[0;34m(\u001b[0m\u001b[0;34m)\u001b[0m\u001b[0;34m\u001b[0m\u001b[0;34m\u001b[0m\u001b[0m\n\u001b[0m",
            "\u001b[0;31mTypeError\u001b[0m: Manager.Calculate_result_salary() missing 1 required positional argument: 'base_salary'"
          ]
        }
      ]
    }
  ]
}