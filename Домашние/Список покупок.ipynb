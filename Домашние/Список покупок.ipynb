{
  "nbformat": 4,
  "nbformat_minor": 0,
  "metadata": {
    "colab": {
      "provenance": []
    },
    "kernelspec": {
      "name": "python3",
      "display_name": "Python 3"
    },
    "language_info": {
      "name": "python"
    }
  },
  "cells": [
    {
      "cell_type": "code",
      "source": [
        "shopping_list = []\n",
        "\n",
        "def remove_item():\n",
        "    item = input(\"Введите товар для удаления: \")\n",
        "    if item in shopping_list:\n",
        "        shopping_list.remove(item)\n",
        "        print(f\"Товар '{item}' удален.\")\n",
        "    else:\n",
        "        print(f\"Товар '{item}' отсутствует в списке.\")\n",
        "\n",
        "def show_list(show_all=True):\n",
        "    if not shopping_list:\n",
        "        print(\"Список покупок пуст.\")\n",
        "        return\n",
        "    if show_all:\n",
        "        print(\"--- Ваш список покупок ---\")\n",
        "        for i, item in enumerate(shopping_list):\n",
        "            print(f\"{i+1}. {item}\")\n",
        "\n",
        "while True:\n",
        "    print(\"\\nВыберите действие:\")\n",
        "    print(\"1. Добавить товар\")\n",
        "    print(\"2. Удалить товар\")\n",
        "    print(\"3. Показать весь список\")\n",
        "    print(\"4. Закончить\")\n",
        "\n",
        "    choice = input(\"Введите номер действия: \")\n",
        "\n",
        "    if choice == '1':\n",
        "        add_item()\n",
        "    elif choice == '2':\n",
        "        remove_item()\n",
        "    elif choice == '3':\n",
        "        show_list(show_all=True)\n",
        "    elif choice == '4':\n",
        "        print(\"До свидания!\")\n",
        "        break\n",
        "    else:\n",
        "        print(\"Неверный выбор. Пожалуйста, попробуйте снова.\")"
      ],
      "metadata": {
        "colab": {
          "base_uri": "https://localhost:8080/"
        },
        "id": "hOyTtLE52GWh",
        "outputId": "d9d26c06-5653-4d23-d6a9-db5ed7ca4320"
      },
      "execution_count": 161,
      "outputs": [
        {
          "output_type": "stream",
          "name": "stdout",
          "text": [
            "\n",
            "Выберите действие:\n",
            "1. Добавить товар\n",
            "2. Удалить товар\n",
            "3. Показать весь список\n",
            "4. Закончить\n",
            "Введите номер действия: 1\n",
            "Введите товар для добавления: вишня\n",
            "Товар 'вишня' добавлен в список.\n",
            "\n",
            "Выберите действие:\n",
            "1. Добавить товар\n",
            "2. Удалить товар\n",
            "3. Показать весь список\n",
            "4. Закончить\n",
            "Введите номер действия: 3\n",
            "--- Ваш список покупок ---\n",
            "1. вишня\n",
            "\n",
            "Выберите действие:\n",
            "1. Добавить товар\n",
            "2. Удалить товар\n",
            "3. Показать весь список\n",
            "4. Закончить\n",
            "Введите номер действия: 4\n",
            "До свидания!\n"
          ]
        }
      ]
    }
  ]
}